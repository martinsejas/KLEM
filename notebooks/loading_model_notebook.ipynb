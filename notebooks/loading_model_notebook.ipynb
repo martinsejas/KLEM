{
 "cells": [
  {
   "cell_type": "code",
   "execution_count": 1,
   "metadata": {},
   "outputs": [
    {
     "name": "stdout",
     "output_type": "stream",
     "text": [
      "Collecting git+https://github.com/espnet/espnet\n",
      "  Cloning https://github.com/espnet/espnet to /private/var/folders/pg/t33xxggd1cndkk5fsb62rs_40000gn/T/pip-req-build-v3vcr0o5\n",
      "  Running command git clone --filter=blob:none --quiet https://github.com/espnet/espnet /private/var/folders/pg/t33xxggd1cndkk5fsb62rs_40000gn/T/pip-req-build-v3vcr0o5\n",
      "  Resolved https://github.com/espnet/espnet to commit ed6ee209c93fe72b95a687272a5faf69639b7b49\n",
      "  Running command git submodule update --init --recursive -q\n",
      "  Preparing metadata (setup.py) ... \u001b[?25ldone\n",
      "\u001b[?25hRequirement already satisfied: setuptools>=38.5.1 in /Users/lin.yang/miniconda3/envs/act/lib/python3.9/site-packages (from espnet==202304) (67.8.0)\n",
      "Requirement already satisfied: packaging in /Users/lin.yang/miniconda3/envs/act/lib/python3.9/site-packages (from espnet==202304) (23.1)\n",
      "Requirement already satisfied: configargparse>=1.2.1 in /Users/lin.yang/miniconda3/envs/act/lib/python3.9/site-packages (from espnet==202304) (1.5.5)\n",
      "Requirement already satisfied: typeguard==2.13.3 in /Users/lin.yang/miniconda3/envs/act/lib/python3.9/site-packages (from espnet==202304) (2.13.3)\n",
      "Requirement already satisfied: humanfriendly in /Users/lin.yang/miniconda3/envs/act/lib/python3.9/site-packages (from espnet==202304) (10.0)\n",
      "Requirement already satisfied: scipy>=1.4.1 in /Users/lin.yang/miniconda3/envs/act/lib/python3.9/site-packages (from espnet==202304) (1.11.1)\n",
      "Requirement already satisfied: filelock in /Users/lin.yang/miniconda3/envs/act/lib/python3.9/site-packages (from espnet==202304) (3.12.2)\n",
      "Requirement already satisfied: librosa==0.9.2 in /Users/lin.yang/miniconda3/envs/act/lib/python3.9/site-packages (from espnet==202304) (0.9.2)\n",
      "Requirement already satisfied: jamo==0.4.1 in /Users/lin.yang/miniconda3/envs/act/lib/python3.9/site-packages (from espnet==202304) (0.4.1)\n",
      "Requirement already satisfied: PyYAML>=5.1.2 in /Users/lin.yang/miniconda3/envs/act/lib/python3.9/site-packages (from espnet==202304) (6.0)\n",
      "Requirement already satisfied: soundfile>=0.10.2 in /Users/lin.yang/miniconda3/envs/act/lib/python3.9/site-packages (from espnet==202304) (0.12.1)\n",
      "Requirement already satisfied: h5py>=2.10.0 in /Users/lin.yang/miniconda3/envs/act/lib/python3.9/site-packages (from espnet==202304) (3.9.0)\n",
      "Requirement already satisfied: kaldiio>=2.18.0 in /Users/lin.yang/miniconda3/envs/act/lib/python3.9/site-packages (from espnet==202304) (2.18.0)\n",
      "Requirement already satisfied: torch>=1.3.0 in /Users/lin.yang/miniconda3/envs/act/lib/python3.9/site-packages (from espnet==202304) (2.0.1)\n",
      "Requirement already satisfied: torch_complex in /Users/lin.yang/miniconda3/envs/act/lib/python3.9/site-packages (from espnet==202304) (0.4.3)\n",
      "Requirement already satisfied: nltk>=3.4.5 in /Users/lin.yang/.local/lib/python3.9/site-packages (from espnet==202304) (3.8.1)\n",
      "Collecting numpy<1.24 (from espnet==202304)\n",
      "  Using cached numpy-1.23.5-cp39-cp39-macosx_11_0_arm64.whl (13.4 MB)\n",
      "Requirement already satisfied: protobuf<=3.20.1 in /Users/lin.yang/miniconda3/envs/act/lib/python3.9/site-packages (from espnet==202304) (3.20.1)\n",
      "Requirement already satisfied: hydra-core in /Users/lin.yang/miniconda3/envs/act/lib/python3.9/site-packages (from espnet==202304) (1.3.2)\n",
      "Requirement already satisfied: opt-einsum in /Users/lin.yang/miniconda3/envs/act/lib/python3.9/site-packages (from espnet==202304) (3.3.0)\n",
      "Requirement already satisfied: sentencepiece==0.1.97 in /Users/lin.yang/miniconda3/envs/act/lib/python3.9/site-packages (from espnet==202304) (0.1.97)\n",
      "Requirement already satisfied: ctc-segmentation>=1.6.6 in /Users/lin.yang/miniconda3/envs/act/lib/python3.9/site-packages (from espnet==202304) (1.7.4)\n",
      "Requirement already satisfied: pyworld>=0.2.10 in /Users/lin.yang/miniconda3/envs/act/lib/python3.9/site-packages (from espnet==202304) (0.3.3)\n",
      "Requirement already satisfied: pypinyin<=0.44.0 in /Users/lin.yang/miniconda3/envs/act/lib/python3.9/site-packages (from espnet==202304) (0.44.0)\n",
      "Requirement already satisfied: espnet_tts_frontend in /Users/lin.yang/miniconda3/envs/act/lib/python3.9/site-packages (from espnet==202304) (0.0.3)\n",
      "Requirement already satisfied: ci_sdr in /Users/lin.yang/miniconda3/envs/act/lib/python3.9/site-packages (from espnet==202304) (0.0.2)\n",
      "Requirement already satisfied: pytorch_wpe in /Users/lin.yang/miniconda3/envs/act/lib/python3.9/site-packages (from espnet==202304) (0.0.1)\n",
      "Requirement already satisfied: fast-bss-eval==0.1.3 in /Users/lin.yang/miniconda3/envs/act/lib/python3.9/site-packages (from espnet==202304) (0.1.3)\n",
      "Requirement already satisfied: editdistance in /Users/lin.yang/miniconda3/envs/act/lib/python3.9/site-packages (from espnet==202304) (0.5.2)\n",
      "Requirement already satisfied: importlib-metadata<5.0 in /Users/lin.yang/miniconda3/envs/act/lib/python3.9/site-packages (from espnet==202304) (4.13.0)\n",
      "Requirement already satisfied: audioread>=2.1.9 in /Users/lin.yang/miniconda3/envs/act/lib/python3.9/site-packages (from librosa==0.9.2->espnet==202304) (3.0.0)\n",
      "Requirement already satisfied: scikit-learn>=0.19.1 in /Users/lin.yang/miniconda3/envs/act/lib/python3.9/site-packages (from librosa==0.9.2->espnet==202304) (1.3.0)\n",
      "Requirement already satisfied: joblib>=0.14 in /Users/lin.yang/miniconda3/envs/act/lib/python3.9/site-packages (from librosa==0.9.2->espnet==202304) (1.3.1)\n",
      "Requirement already satisfied: decorator>=4.0.10 in /Users/lin.yang/miniconda3/envs/act/lib/python3.9/site-packages (from librosa==0.9.2->espnet==202304) (5.1.1)\n",
      "Requirement already satisfied: resampy>=0.2.2 in /Users/lin.yang/miniconda3/envs/act/lib/python3.9/site-packages (from librosa==0.9.2->espnet==202304) (0.4.2)\n",
      "Requirement already satisfied: numba>=0.45.1 in /Users/lin.yang/miniconda3/envs/act/lib/python3.9/site-packages (from librosa==0.9.2->espnet==202304) (0.57.1)\n",
      "Requirement already satisfied: pooch>=1.0 in /Users/lin.yang/miniconda3/envs/act/lib/python3.9/site-packages (from librosa==0.9.2->espnet==202304) (1.7.0)\n",
      "Requirement already satisfied: Cython in /Users/lin.yang/miniconda3/envs/act/lib/python3.9/site-packages (from ctc-segmentation>=1.6.6->espnet==202304) (0.29.36)\n",
      "Requirement already satisfied: zipp>=0.5 in /Users/lin.yang/miniconda3/envs/act/lib/python3.9/site-packages (from importlib-metadata<5.0->espnet==202304) (3.16.0)\n",
      "Requirement already satisfied: click in /Users/lin.yang/miniconda3/envs/act/lib/python3.9/site-packages (from nltk>=3.4.5->espnet==202304) (8.1.4)\n",
      "Requirement already satisfied: regex>=2021.8.3 in /Users/lin.yang/miniconda3/envs/act/lib/python3.9/site-packages (from nltk>=3.4.5->espnet==202304) (2023.6.3)\n",
      "Requirement already satisfied: tqdm in /Users/lin.yang/miniconda3/envs/act/lib/python3.9/site-packages (from nltk>=3.4.5->espnet==202304) (4.65.0)\n",
      "Requirement already satisfied: cffi>=1.0 in /Users/lin.yang/miniconda3/envs/act/lib/python3.9/site-packages (from soundfile>=0.10.2->espnet==202304) (1.15.1)\n",
      "Requirement already satisfied: typing-extensions in /Users/lin.yang/miniconda3/envs/act/lib/python3.9/site-packages (from torch>=1.3.0->espnet==202304) (4.7.1)\n",
      "Requirement already satisfied: sympy in /Users/lin.yang/miniconda3/envs/act/lib/python3.9/site-packages (from torch>=1.3.0->espnet==202304) (1.12)\n",
      "Requirement already satisfied: networkx in /Users/lin.yang/miniconda3/envs/act/lib/python3.9/site-packages (from torch>=1.3.0->espnet==202304) (3.1)\n",
      "Requirement already satisfied: jinja2 in /Users/lin.yang/miniconda3/envs/act/lib/python3.9/site-packages (from torch>=1.3.0->espnet==202304) (3.1.2)\n",
      "Requirement already satisfied: einops in /Users/lin.yang/miniconda3/envs/act/lib/python3.9/site-packages (from ci_sdr->espnet==202304) (0.6.1)\n",
      "Requirement already satisfied: unidecode>=1.0.22 in /Users/lin.yang/miniconda3/envs/act/lib/python3.9/site-packages (from espnet_tts_frontend->espnet==202304) (1.3.6)\n",
      "Requirement already satisfied: inflect>=1.0.0 in /Users/lin.yang/miniconda3/envs/act/lib/python3.9/site-packages (from espnet_tts_frontend->espnet==202304) (7.0.0)\n",
      "Requirement already satisfied: jaconv in /Users/lin.yang/miniconda3/envs/act/lib/python3.9/site-packages (from espnet_tts_frontend->espnet==202304) (0.3.4)\n",
      "Requirement already satisfied: g2p-en in /Users/lin.yang/miniconda3/envs/act/lib/python3.9/site-packages (from espnet_tts_frontend->espnet==202304) (2.1.0)\n",
      "Requirement already satisfied: omegaconf<2.4,>=2.2 in /Users/lin.yang/miniconda3/envs/act/lib/python3.9/site-packages (from hydra-core->espnet==202304) (2.3.0)\n",
      "Requirement already satisfied: antlr4-python3-runtime==4.9.* in /Users/lin.yang/miniconda3/envs/act/lib/python3.9/site-packages (from hydra-core->espnet==202304) (4.9.3)\n",
      "Requirement already satisfied: pycparser in /Users/lin.yang/miniconda3/envs/act/lib/python3.9/site-packages (from cffi>=1.0->soundfile>=0.10.2->espnet==202304) (2.21)\n",
      "Requirement already satisfied: pydantic>=1.9.1 in /Users/lin.yang/miniconda3/envs/act/lib/python3.9/site-packages (from inflect>=1.0.0->espnet_tts_frontend->espnet==202304) (2.0.2)\n",
      "Requirement already satisfied: llvmlite<0.41,>=0.40.0dev0 in /Users/lin.yang/miniconda3/envs/act/lib/python3.9/site-packages (from numba>=0.45.1->librosa==0.9.2->espnet==202304) (0.40.1)\n",
      "Requirement already satisfied: platformdirs>=2.5.0 in /Users/lin.yang/miniconda3/envs/act/lib/python3.9/site-packages (from pooch>=1.0->librosa==0.9.2->espnet==202304) (3.8.1)\n",
      "Requirement already satisfied: requests>=2.19.0 in /Users/lin.yang/miniconda3/envs/act/lib/python3.9/site-packages (from pooch>=1.0->librosa==0.9.2->espnet==202304) (2.31.0)\n",
      "Requirement already satisfied: threadpoolctl>=2.0.0 in /Users/lin.yang/miniconda3/envs/act/lib/python3.9/site-packages (from scikit-learn>=0.19.1->librosa==0.9.2->espnet==202304) (3.1.0)\n",
      "Requirement already satisfied: distance>=0.1.3 in /Users/lin.yang/miniconda3/envs/act/lib/python3.9/site-packages (from g2p-en->espnet_tts_frontend->espnet==202304) (0.1.3)\n",
      "Requirement already satisfied: MarkupSafe>=2.0 in /Users/lin.yang/miniconda3/envs/act/lib/python3.9/site-packages (from jinja2->torch>=1.3.0->espnet==202304) (2.1.3)\n",
      "Requirement already satisfied: mpmath>=0.19 in /Users/lin.yang/miniconda3/envs/act/lib/python3.9/site-packages (from sympy->torch>=1.3.0->espnet==202304) (1.3.0)\n",
      "Requirement already satisfied: annotated-types>=0.4.0 in /Users/lin.yang/miniconda3/envs/act/lib/python3.9/site-packages (from pydantic>=1.9.1->inflect>=1.0.0->espnet_tts_frontend->espnet==202304) (0.5.0)\n",
      "Requirement already satisfied: pydantic-core==2.1.2 in /Users/lin.yang/miniconda3/envs/act/lib/python3.9/site-packages (from pydantic>=1.9.1->inflect>=1.0.0->espnet_tts_frontend->espnet==202304) (2.1.2)\n",
      "Requirement already satisfied: charset-normalizer<4,>=2 in /Users/lin.yang/miniconda3/envs/act/lib/python3.9/site-packages (from requests>=2.19.0->pooch>=1.0->librosa==0.9.2->espnet==202304) (3.2.0)\n",
      "Requirement already satisfied: idna<4,>=2.5 in /Users/lin.yang/miniconda3/envs/act/lib/python3.9/site-packages (from requests>=2.19.0->pooch>=1.0->librosa==0.9.2->espnet==202304) (3.4)\n",
      "Requirement already satisfied: urllib3<3,>=1.21.1 in /Users/lin.yang/miniconda3/envs/act/lib/python3.9/site-packages (from requests>=2.19.0->pooch>=1.0->librosa==0.9.2->espnet==202304) (1.26.16)\n",
      "Requirement already satisfied: certifi>=2017.4.17 in /Users/lin.yang/miniconda3/envs/act/lib/python3.9/site-packages (from requests>=2.19.0->pooch>=1.0->librosa==0.9.2->espnet==202304) (2023.5.7)\n",
      "Installing collected packages: numpy\n",
      "  Attempting uninstall: numpy\n",
      "    Found existing installation: numpy 1.24.4\n",
      "    Uninstalling numpy-1.24.4:\n",
      "      Successfully uninstalled numpy-1.24.4\n",
      "Successfully installed numpy-1.23.5\n",
      "Note: you may need to restart the kernel to use updated packages.\n",
      "Note: you may need to restart the kernel to use updated packages.\n"
     ]
    }
   ],
   "source": [
    "%pip install git+https://github.com/espnet/espnet\n",
    "%pip install -q espnet_model_zoo"
   ]
  },
  {
   "attachments": {},
   "cell_type": "markdown",
   "metadata": {},
   "source": [
    "## Speech Enhancement\n",
    "\n",
    "### Single-Channel Enhancement, the CHiME example"
   ]
  },
  {
   "cell_type": "code",
   "execution_count": null,
   "metadata": {},
   "outputs": [],
   "source": [
    "# Download one utterance from real noisy speech of CHiME4\n",
    "# !gdown --id 1SmrN5NFSg6JuQSs2sfy3ehD8OIcqK6wS -O /content/M05_440C0213_PED_REAL.wav\n",
    "import os\n",
    "\n",
    "import soundfile\n",
    "from IPython.display import display, Audio\n",
    "mixwav_mc, sr = soundfile.read(\"./data/vlpcv-zpdep.wav\")\n",
    "# mixwav.shape: num_samples, num_channels\n",
    "mixwav_sc = mixwav_mc[:,4]\n",
    "display(Audio(mixwav_mc.T, rate=sr))"
   ]
  },
  {
   "cell_type": "code",
   "execution_count": 5,
   "metadata": {},
   "outputs": [],
   "source": [
    "audio_r, sr_r = soundfile.read('./data/raw/lin_test_r.wav')\n",
    "audio_c, sr_c = soundfile.read('./data/cleaned/lin_test_c.wav')"
   ]
  },
  {
   "cell_type": "code",
   "execution_count": null,
   "metadata": {},
   "outputs": [],
   "source": []
  }
 ],
 "metadata": {
  "kernelspec": {
   "display_name": "act",
   "language": "python",
   "name": "python3"
  },
  "language_info": {
   "codemirror_mode": {
    "name": "ipython",
    "version": 3
   },
   "file_extension": ".py",
   "mimetype": "text/x-python",
   "name": "python",
   "nbconvert_exporter": "python",
   "pygments_lexer": "ipython3",
   "version": "3.9.17"
  },
  "orig_nbformat": 4
 },
 "nbformat": 4,
 "nbformat_minor": 2
}
